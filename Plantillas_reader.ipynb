{
 "cells": [
  {
   "cell_type": "code",
   "execution_count": 3,
   "metadata": {},
   "outputs": [
    {
     "name": "stderr",
     "output_type": "stream",
     "text": [
      "/home/auri/anaconda3/lib/python3.6/site-packages/pandas/io/excel.py:329: FutureWarning: The `sheetname` keyword is deprecated, use `sheet_name` instead\n",
      "  **kwds)\n"
     ]
    }
   ],
   "source": [
    "import pandas as pd\n",
    "from pandas import ExcelWriter\n",
    "from pandas import ExcelFile\n",
    "\n",
    "df = pd.read_excel('TMA08-035 EPICOLON II 8.xls', sheetname='PLANTILLA', skiprows=5, header = None)\n",
    "df.drop(df.columns[[0,6]], axis=1, inplace = True)"
   ]
  },
  {
   "cell_type": "code",
   "execution_count": 2,
   "metadata": {
    "scrolled": true
   },
   "outputs": [
    {
     "data": {
      "text/html": [
       "<div>\n",
       "<style scoped>\n",
       "    .dataframe tbody tr th:only-of-type {\n",
       "        vertical-align: middle;\n",
       "    }\n",
       "\n",
       "    .dataframe tbody tr th {\n",
       "        vertical-align: top;\n",
       "    }\n",
       "\n",
       "    .dataframe thead th {\n",
       "        text-align: right;\n",
       "    }\n",
       "</style>\n",
       "<table border=\"1\" class=\"dataframe\">\n",
       "  <thead>\n",
       "    <tr style=\"text-align: right;\">\n",
       "      <th></th>\n",
       "      <th>1</th>\n",
       "      <th>2</th>\n",
       "      <th>3</th>\n",
       "      <th>4</th>\n",
       "      <th>5</th>\n",
       "      <th>7</th>\n",
       "      <th>8</th>\n",
       "      <th>9</th>\n",
       "      <th>10</th>\n",
       "      <th>11</th>\n",
       "    </tr>\n",
       "  </thead>\n",
       "  <tbody>\n",
       "    <tr>\n",
       "      <th>0</th>\n",
       "      <td>E00222</td>\n",
       "      <td>E01463</td>\n",
       "      <td>E01464</td>\n",
       "      <td>E01982</td>\n",
       "      <td>E05605</td>\n",
       "      <td>E00222</td>\n",
       "      <td>E01463</td>\n",
       "      <td>E01464</td>\n",
       "      <td>E01982</td>\n",
       "      <td>E05605</td>\n",
       "    </tr>\n",
       "    <tr>\n",
       "      <th>1</th>\n",
       "      <td>E01984</td>\n",
       "      <td>E02002</td>\n",
       "      <td>E02243</td>\n",
       "      <td>E02443</td>\n",
       "      <td>E05606</td>\n",
       "      <td>E01984</td>\n",
       "      <td>E02002</td>\n",
       "      <td>E02243</td>\n",
       "      <td>E02443</td>\n",
       "      <td>E05606</td>\n",
       "    </tr>\n",
       "    <tr>\n",
       "      <th>2</th>\n",
       "      <td>E02444</td>\n",
       "      <td>E05387</td>\n",
       "      <td>E05450</td>\n",
       "      <td>E05451</td>\n",
       "      <td>E05607</td>\n",
       "      <td>E02444</td>\n",
       "      <td>E05387</td>\n",
       "      <td>E05450</td>\n",
       "      <td>E05451</td>\n",
       "      <td>E05607</td>\n",
       "    </tr>\n",
       "    <tr>\n",
       "      <th>3</th>\n",
       "      <td>E05462</td>\n",
       "      <td>E00386</td>\n",
       "      <td>E05467</td>\n",
       "      <td>E05562</td>\n",
       "      <td>E05608</td>\n",
       "      <td>E05462</td>\n",
       "      <td>E00386</td>\n",
       "      <td>E05467</td>\n",
       "      <td>E05562</td>\n",
       "      <td>E05608</td>\n",
       "    </tr>\n",
       "    <tr>\n",
       "      <th>4</th>\n",
       "      <td>E05563</td>\n",
       "      <td>E05564</td>\n",
       "      <td>E05565</td>\n",
       "      <td>E05566</td>\n",
       "      <td>E05609</td>\n",
       "      <td>E05563</td>\n",
       "      <td>E05564</td>\n",
       "      <td>E05565</td>\n",
       "      <td>E05566</td>\n",
       "      <td>E05609</td>\n",
       "    </tr>\n",
       "    <tr>\n",
       "      <th>5</th>\n",
       "      <td>E05568</td>\n",
       "      <td>E05602</td>\n",
       "      <td>E05603</td>\n",
       "      <td>E05604</td>\n",
       "      <td>E05610</td>\n",
       "      <td>E05568</td>\n",
       "      <td>E05602</td>\n",
       "      <td>E05603</td>\n",
       "      <td>E05604</td>\n",
       "      <td>E05610</td>\n",
       "    </tr>\n",
       "  </tbody>\n",
       "</table>\n",
       "</div>"
      ],
      "text/plain": [
       "       1       2       3       4       5       7       8       9       10  \\\n",
       "0  E00222  E01463  E01464  E01982  E05605  E00222  E01463  E01464  E01982   \n",
       "1  E01984  E02002  E02243  E02443  E05606  E01984  E02002  E02243  E02443   \n",
       "2  E02444  E05387  E05450  E05451  E05607  E02444  E05387  E05450  E05451   \n",
       "3  E05462  E00386  E05467  E05562  E05608  E05462  E00386  E05467  E05562   \n",
       "4  E05563  E05564  E05565  E05566  E05609  E05563  E05564  E05565  E05566   \n",
       "5  E05568  E05602  E05603  E05604  E05610  E05568  E05602  E05603  E05604   \n",
       "\n",
       "       11  \n",
       "0  E05605  \n",
       "1  E05606  \n",
       "2  E05607  \n",
       "3  E05608  \n",
       "4  E05609  \n",
       "5  E05610  "
      ]
     },
     "execution_count": 2,
     "metadata": {},
     "output_type": "execute_result"
    }
   ],
   "source": [
    "df"
   ]
  },
  {
   "cell_type": "code",
   "execution_count": null,
   "metadata": {
    "collapsed": true
   },
   "outputs": [],
   "source": []
  },
  {
   "cell_type": "code",
   "execution_count": 3,
   "metadata": {
    "scrolled": true
   },
   "outputs": [
    {
     "data": {
      "text/plain": [
       "(6, 10)"
      ]
     },
     "execution_count": 3,
     "metadata": {},
     "output_type": "execute_result"
    }
   ],
   "source": [
    "df.shape"
   ]
  },
  {
   "cell_type": "code",
   "execution_count": 333,
   "metadata": {
    "collapsed": true
   },
   "outputs": [],
   "source": [
    "path = \"DTS2019/PLANTILLAS/\"\n",
    "TMA = 'TMA14-006.xls'"
   ]
  },
  {
   "cell_type": "code",
   "execution_count": 344,
   "metadata": {
    "scrolled": true
   },
   "outputs": [
    {
     "name": "stderr",
     "output_type": "stream",
     "text": [
      "/home/auri/anaconda3/lib/python3.6/site-packages/pandas/io/excel.py:329: FutureWarning: The `sheetname` keyword is deprecated, use `sheet_name` instead\n",
      "  **kwds)\n"
     ]
    }
   ],
   "source": [
    "df = pd.read_excel(path + TMA, sheetname='PLANTILLA', skiprows=6, header = None)"
   ]
  },
  {
   "cell_type": "code",
   "execution_count": 345,
   "metadata": {},
   "outputs": [],
   "source": [
    "df.drop(df.columns[[0,1,6,7]], axis=1, inplace = True)\n"
   ]
  },
  {
   "cell_type": "code",
   "execution_count": 346,
   "metadata": {},
   "outputs": [
    {
     "data": {
      "text/plain": [
       "(8, 8)"
      ]
     },
     "execution_count": 346,
     "metadata": {},
     "output_type": "execute_result"
    }
   ],
   "source": [
    "df.shape"
   ]
  },
  {
   "cell_type": "code",
   "execution_count": 347,
   "metadata": {
    "scrolled": true
   },
   "outputs": [
    {
     "data": {
      "text/html": [
       "<div>\n",
       "<style scoped>\n",
       "    .dataframe tbody tr th:only-of-type {\n",
       "        vertical-align: middle;\n",
       "    }\n",
       "\n",
       "    .dataframe tbody tr th {\n",
       "        vertical-align: top;\n",
       "    }\n",
       "\n",
       "    .dataframe thead th {\n",
       "        text-align: right;\n",
       "    }\n",
       "</style>\n",
       "<table border=\"1\" class=\"dataframe\">\n",
       "  <thead>\n",
       "    <tr style=\"text-align: right;\">\n",
       "      <th></th>\n",
       "      <th>2</th>\n",
       "      <th>3</th>\n",
       "      <th>4</th>\n",
       "      <th>5</th>\n",
       "      <th>8</th>\n",
       "      <th>9</th>\n",
       "      <th>10</th>\n",
       "      <th>11</th>\n",
       "    </tr>\n",
       "  </thead>\n",
       "  <tbody>\n",
       "    <tr>\n",
       "      <th>0</th>\n",
       "      <td>06-5803-11</td>\n",
       "      <td>06-5879-15</td>\n",
       "      <td>06-5884-1</td>\n",
       "      <td>06-6340-14</td>\n",
       "      <td>06-5803-11</td>\n",
       "      <td>06-5879-15</td>\n",
       "      <td>06-5884-1</td>\n",
       "      <td>06-6340-14</td>\n",
       "    </tr>\n",
       "    <tr>\n",
       "      <th>1</th>\n",
       "      <td>06-6798-6</td>\n",
       "      <td>06-9873-18</td>\n",
       "      <td>06-9926-8</td>\n",
       "      <td>06-10175-20</td>\n",
       "      <td>06-6798-6</td>\n",
       "      <td>06-9873-18</td>\n",
       "      <td>06-9926-8</td>\n",
       "      <td>06-10175-20</td>\n",
       "    </tr>\n",
       "    <tr>\n",
       "      <th>2</th>\n",
       "      <td>06-10268-11</td>\n",
       "      <td>06-10993-1</td>\n",
       "      <td>06-11839-5</td>\n",
       "      <td>06-12247-4</td>\n",
       "      <td>06-10268-11</td>\n",
       "      <td>06-10993-1</td>\n",
       "      <td>06-11839-5</td>\n",
       "      <td>06-12247-4</td>\n",
       "    </tr>\n",
       "    <tr>\n",
       "      <th>3</th>\n",
       "      <td>06-12585-6</td>\n",
       "      <td>06-12713-19</td>\n",
       "      <td>06-12748-5</td>\n",
       "      <td>06-13094-4</td>\n",
       "      <td>06-12585-6</td>\n",
       "      <td>06-12713-19</td>\n",
       "      <td>06-12748-5</td>\n",
       "      <td>06-13094-4</td>\n",
       "    </tr>\n",
       "    <tr>\n",
       "      <th>4</th>\n",
       "      <td>06-13251-4</td>\n",
       "      <td>06-13666-3</td>\n",
       "      <td>06-14108-5</td>\n",
       "      <td>06-14535-9</td>\n",
       "      <td>06-13251-4</td>\n",
       "      <td>06-13666-3</td>\n",
       "      <td>06-14108-5</td>\n",
       "      <td>06-14535-9</td>\n",
       "    </tr>\n",
       "    <tr>\n",
       "      <th>5</th>\n",
       "      <td>06-14535-5</td>\n",
       "      <td>06-15750-2</td>\n",
       "      <td>06-15822-9</td>\n",
       "      <td>07-1268-B</td>\n",
       "      <td>06-14535-5</td>\n",
       "      <td>06-15750-2</td>\n",
       "      <td>06-15822-9</td>\n",
       "      <td>07-1268-B</td>\n",
       "    </tr>\n",
       "    <tr>\n",
       "      <th>6</th>\n",
       "      <td>07-3015-8</td>\n",
       "      <td>07-3277-6</td>\n",
       "      <td>07-3553-3</td>\n",
       "      <td>07-960-13</td>\n",
       "      <td>07-3015-8</td>\n",
       "      <td>07-3277-6</td>\n",
       "      <td>07-3553-3</td>\n",
       "      <td>07-960-13</td>\n",
       "    </tr>\n",
       "    <tr>\n",
       "      <th>7</th>\n",
       "      <td>NaN</td>\n",
       "      <td>NaN</td>\n",
       "      <td>NaN</td>\n",
       "      <td>07-10250-1</td>\n",
       "      <td>NaN</td>\n",
       "      <td>NaN</td>\n",
       "      <td>NaN</td>\n",
       "      <td>07-10250-1</td>\n",
       "    </tr>\n",
       "  </tbody>\n",
       "</table>\n",
       "</div>"
      ],
      "text/plain": [
       "            2            3           4            5            8   \\\n",
       "0   06-5803-11   06-5879-15   06-5884-1   06-6340-14   06-5803-11   \n",
       "1    06-6798-6   06-9873-18   06-9926-8  06-10175-20    06-6798-6   \n",
       "2  06-10268-11   06-10993-1  06-11839-5   06-12247-4  06-10268-11   \n",
       "3   06-12585-6  06-12713-19  06-12748-5   06-13094-4   06-12585-6   \n",
       "4   06-13251-4   06-13666-3  06-14108-5   06-14535-9   06-13251-4   \n",
       "5   06-14535-5   06-15750-2  06-15822-9    07-1268-B   06-14535-5   \n",
       "6    07-3015-8    07-3277-6   07-3553-3    07-960-13    07-3015-8   \n",
       "7          NaN          NaN         NaN   07-10250-1          NaN   \n",
       "\n",
       "            9           10           11  \n",
       "0   06-5879-15   06-5884-1   06-6340-14  \n",
       "1   06-9873-18   06-9926-8  06-10175-20  \n",
       "2   06-10993-1  06-11839-5   06-12247-4  \n",
       "3  06-12713-19  06-12748-5   06-13094-4  \n",
       "4   06-13666-3  06-14108-5   06-14535-9  \n",
       "5   06-15750-2  06-15822-9    07-1268-B  \n",
       "6    07-3277-6   07-3553-3    07-960-13  \n",
       "7          NaN         NaN   07-10250-1  "
      ]
     },
     "execution_count": 347,
     "metadata": {},
     "output_type": "execute_result"
    }
   ],
   "source": [
    "df\n"
   ]
  },
  {
   "cell_type": "code",
   "execution_count": 348,
   "metadata": {
    "collapsed": true
   },
   "outputs": [],
   "source": [
    "s = df.T.reset_index().reindex(columns=[1,0,'index'])"
   ]
  },
  {
   "cell_type": "code",
   "execution_count": 349,
   "metadata": {
    "collapsed": true
   },
   "outputs": [],
   "source": [
    "s = df.T"
   ]
  },
  {
   "cell_type": "code",
   "execution_count": 350,
   "metadata": {},
   "outputs": [
    {
     "data": {
      "text/html": [
       "<div>\n",
       "<style scoped>\n",
       "    .dataframe tbody tr th:only-of-type {\n",
       "        vertical-align: middle;\n",
       "    }\n",
       "\n",
       "    .dataframe tbody tr th {\n",
       "        vertical-align: top;\n",
       "    }\n",
       "\n",
       "    .dataframe thead th {\n",
       "        text-align: right;\n",
       "    }\n",
       "</style>\n",
       "<table border=\"1\" class=\"dataframe\">\n",
       "  <thead>\n",
       "    <tr style=\"text-align: right;\">\n",
       "      <th></th>\n",
       "      <th>7</th>\n",
       "      <th>6</th>\n",
       "      <th>5</th>\n",
       "      <th>4</th>\n",
       "      <th>3</th>\n",
       "      <th>2</th>\n",
       "      <th>1</th>\n",
       "      <th>0</th>\n",
       "      <th>index</th>\n",
       "    </tr>\n",
       "  </thead>\n",
       "  <tbody>\n",
       "    <tr>\n",
       "      <th>0</th>\n",
       "      <td>NaN</td>\n",
       "      <td>07-3015-8</td>\n",
       "      <td>06-14535-5</td>\n",
       "      <td>06-13251-4</td>\n",
       "      <td>06-12585-6</td>\n",
       "      <td>06-10268-11</td>\n",
       "      <td>06-6798-6</td>\n",
       "      <td>06-5803-11</td>\n",
       "      <td>2</td>\n",
       "    </tr>\n",
       "    <tr>\n",
       "      <th>1</th>\n",
       "      <td>NaN</td>\n",
       "      <td>07-3277-6</td>\n",
       "      <td>06-15750-2</td>\n",
       "      <td>06-13666-3</td>\n",
       "      <td>06-12713-19</td>\n",
       "      <td>06-10993-1</td>\n",
       "      <td>06-9873-18</td>\n",
       "      <td>06-5879-15</td>\n",
       "      <td>3</td>\n",
       "    </tr>\n",
       "    <tr>\n",
       "      <th>2</th>\n",
       "      <td>NaN</td>\n",
       "      <td>07-3553-3</td>\n",
       "      <td>06-15822-9</td>\n",
       "      <td>06-14108-5</td>\n",
       "      <td>06-12748-5</td>\n",
       "      <td>06-11839-5</td>\n",
       "      <td>06-9926-8</td>\n",
       "      <td>06-5884-1</td>\n",
       "      <td>4</td>\n",
       "    </tr>\n",
       "    <tr>\n",
       "      <th>3</th>\n",
       "      <td>07-10250-1</td>\n",
       "      <td>07-960-13</td>\n",
       "      <td>07-1268-B</td>\n",
       "      <td>06-14535-9</td>\n",
       "      <td>06-13094-4</td>\n",
       "      <td>06-12247-4</td>\n",
       "      <td>06-10175-20</td>\n",
       "      <td>06-6340-14</td>\n",
       "      <td>5</td>\n",
       "    </tr>\n",
       "    <tr>\n",
       "      <th>4</th>\n",
       "      <td>NaN</td>\n",
       "      <td>07-3015-8</td>\n",
       "      <td>06-14535-5</td>\n",
       "      <td>06-13251-4</td>\n",
       "      <td>06-12585-6</td>\n",
       "      <td>06-10268-11</td>\n",
       "      <td>06-6798-6</td>\n",
       "      <td>06-5803-11</td>\n",
       "      <td>8</td>\n",
       "    </tr>\n",
       "    <tr>\n",
       "      <th>5</th>\n",
       "      <td>NaN</td>\n",
       "      <td>07-3277-6</td>\n",
       "      <td>06-15750-2</td>\n",
       "      <td>06-13666-3</td>\n",
       "      <td>06-12713-19</td>\n",
       "      <td>06-10993-1</td>\n",
       "      <td>06-9873-18</td>\n",
       "      <td>06-5879-15</td>\n",
       "      <td>9</td>\n",
       "    </tr>\n",
       "    <tr>\n",
       "      <th>6</th>\n",
       "      <td>NaN</td>\n",
       "      <td>07-3553-3</td>\n",
       "      <td>06-15822-9</td>\n",
       "      <td>06-14108-5</td>\n",
       "      <td>06-12748-5</td>\n",
       "      <td>06-11839-5</td>\n",
       "      <td>06-9926-8</td>\n",
       "      <td>06-5884-1</td>\n",
       "      <td>10</td>\n",
       "    </tr>\n",
       "    <tr>\n",
       "      <th>7</th>\n",
       "      <td>07-10250-1</td>\n",
       "      <td>07-960-13</td>\n",
       "      <td>07-1268-B</td>\n",
       "      <td>06-14535-9</td>\n",
       "      <td>06-13094-4</td>\n",
       "      <td>06-12247-4</td>\n",
       "      <td>06-10175-20</td>\n",
       "      <td>06-6340-14</td>\n",
       "      <td>11</td>\n",
       "    </tr>\n",
       "  </tbody>\n",
       "</table>\n",
       "</div>"
      ],
      "text/plain": [
       "            7          6           5           4            3            2  \\\n",
       "0         NaN  07-3015-8  06-14535-5  06-13251-4   06-12585-6  06-10268-11   \n",
       "1         NaN  07-3277-6  06-15750-2  06-13666-3  06-12713-19   06-10993-1   \n",
       "2         NaN  07-3553-3  06-15822-9  06-14108-5   06-12748-5   06-11839-5   \n",
       "3  07-10250-1  07-960-13   07-1268-B  06-14535-9   06-13094-4   06-12247-4   \n",
       "4         NaN  07-3015-8  06-14535-5  06-13251-4   06-12585-6  06-10268-11   \n",
       "5         NaN  07-3277-6  06-15750-2  06-13666-3  06-12713-19   06-10993-1   \n",
       "6         NaN  07-3553-3  06-15822-9  06-14108-5   06-12748-5   06-11839-5   \n",
       "7  07-10250-1  07-960-13   07-1268-B  06-14535-9   06-13094-4   06-12247-4   \n",
       "\n",
       "             1           0  index  \n",
       "0    06-6798-6  06-5803-11      2  \n",
       "1   06-9873-18  06-5879-15      3  \n",
       "2    06-9926-8   06-5884-1      4  \n",
       "3  06-10175-20  06-6340-14      5  \n",
       "4    06-6798-6  06-5803-11      8  \n",
       "5   06-9873-18  06-5879-15      9  \n",
       "6    06-9926-8   06-5884-1     10  \n",
       "7  06-10175-20  06-6340-14     11  "
      ]
     },
     "execution_count": 350,
     "metadata": {},
     "output_type": "execute_result"
    }
   ],
   "source": [
    "s = df.T.reset_index().reindex(columns=[7,6,5,4,3,2,1,0,'index'])\n",
    "s"
   ]
  },
  {
   "cell_type": "code",
   "execution_count": 351,
   "metadata": {
    "collapsed": true
   },
   "outputs": [],
   "source": [
    "s.to_csv('_' + TMA)"
   ]
  },
  {
   "cell_type": "code",
   "execution_count": null,
   "metadata": {
    "collapsed": true
   },
   "outputs": [],
   "source": []
  },
  {
   "cell_type": "code",
   "execution_count": null,
   "metadata": {
    "collapsed": true
   },
   "outputs": [],
   "source": []
  }
 ],
 "metadata": {
  "kernelspec": {
   "display_name": "Python 3",
   "language": "python",
   "name": "python3"
  },
  "language_info": {
   "codemirror_mode": {
    "name": "ipython",
    "version": 3
   },
   "file_extension": ".py",
   "mimetype": "text/x-python",
   "name": "python",
   "nbconvert_exporter": "python",
   "pygments_lexer": "ipython3",
   "version": "3.6.9"
  }
 },
 "nbformat": 4,
 "nbformat_minor": 2
}
