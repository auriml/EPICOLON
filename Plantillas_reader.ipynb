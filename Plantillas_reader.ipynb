{
 "cells": [
  {
   "cell_type": "code",
   "execution_count": 7,
   "metadata": {},
   "outputs": [],
   "source": [
    "import pandas as pd\n",
    "from pandas import ExcelWriter\n",
    "from pandas import ExcelFile\n",
    "\n",
    "df = pd.read_excel('nuevos/TMA20-002.xls', sheet_name='PLANTILLA', skiprows=5, header = None)\n",
    "df.drop(df.columns[[0,6]], axis=1, inplace = True)"
   ]
  },
  {
   "cell_type": "code",
   "execution_count": 17,
   "metadata": {},
   "outputs": [
    {
     "name": "stdout",
     "output_type": "stream",
     "text": [
      "(8, 10)\n",
      "(8, 10)\n",
      "(8, 10)\n",
      "(8, 10)\n",
      "(8, 10)\n",
      "(8, 10)\n"
     ]
    }
   ],
   "source": [
    "import os\n",
    "tmas = []\n",
    "for root, dirs, files in os.walk(\"nuevos\"):\n",
    "    for file in files:\n",
    "        if file.endswith(\".xls\"):\n",
    "            df = pd.read_excel(f'nuevos/{file}', sheet_name='PLANTILLA', skiprows=5, header = None)\n",
    "            df.drop(df.columns[[0,6]], axis=1, inplace = True)\n",
    "            print(df.shape)\n",
    "            s = df.T.reset_index().reindex(columns=[1,0,'index'])\n",
    "            s = df.T\n",
    "            s = df.T.reset_index().reindex(columns=[7,6,5,4,3,2,1,0,'index'])\n",
    "            s.drop(columns = ['index'], inplace = True)\n",
    "            s.to_csv('_' + file, header=None, index = None)\n",
    "            #tmas.append(tma)"
   ]
  },
  {
   "cell_type": "code",
   "execution_count": 9,
   "metadata": {
    "scrolled": true
   },
   "outputs": [
    {
     "data": {
      "text/html": [
       "<div>\n",
       "<style scoped>\n",
       "    .dataframe tbody tr th:only-of-type {\n",
       "        vertical-align: middle;\n",
       "    }\n",
       "\n",
       "    .dataframe tbody tr th {\n",
       "        vertical-align: top;\n",
       "    }\n",
       "\n",
       "    .dataframe thead th {\n",
       "        text-align: right;\n",
       "    }\n",
       "</style>\n",
       "<table border=\"1\" class=\"dataframe\">\n",
       "  <thead>\n",
       "    <tr style=\"text-align: right;\">\n",
       "      <th></th>\n",
       "      <th>1</th>\n",
       "      <th>2</th>\n",
       "      <th>3</th>\n",
       "      <th>4</th>\n",
       "      <th>5</th>\n",
       "      <th>7</th>\n",
       "      <th>8</th>\n",
       "      <th>9</th>\n",
       "      <th>10</th>\n",
       "      <th>11</th>\n",
       "    </tr>\n",
       "  </thead>\n",
       "  <tbody>\n",
       "    <tr>\n",
       "      <th>0</th>\n",
       "      <td>2017</td>\n",
       "      <td>2018</td>\n",
       "      <td>2022</td>\n",
       "      <td>2023</td>\n",
       "      <td>2025</td>\n",
       "      <td>2017</td>\n",
       "      <td>2018</td>\n",
       "      <td>2022</td>\n",
       "      <td>2023</td>\n",
       "      <td>2025</td>\n",
       "    </tr>\n",
       "    <tr>\n",
       "      <th>1</th>\n",
       "      <td>2028</td>\n",
       "      <td>3038</td>\n",
       "      <td>3063</td>\n",
       "      <td>4005</td>\n",
       "      <td>4007</td>\n",
       "      <td>2028</td>\n",
       "      <td>3038</td>\n",
       "      <td>3063</td>\n",
       "      <td>4005</td>\n",
       "      <td>4007</td>\n",
       "    </tr>\n",
       "    <tr>\n",
       "      <th>2</th>\n",
       "      <td>1014</td>\n",
       "      <td>4015</td>\n",
       "      <td>4018</td>\n",
       "      <td>4039</td>\n",
       "      <td>4040</td>\n",
       "      <td>1014</td>\n",
       "      <td>4015</td>\n",
       "      <td>4018</td>\n",
       "      <td>4039</td>\n",
       "      <td>4040</td>\n",
       "    </tr>\n",
       "    <tr>\n",
       "      <th>3</th>\n",
       "      <td>4041</td>\n",
       "      <td>4042</td>\n",
       "      <td>4048</td>\n",
       "      <td>4063</td>\n",
       "      <td>4064</td>\n",
       "      <td>4041</td>\n",
       "      <td>4042</td>\n",
       "      <td>4048</td>\n",
       "      <td>4063</td>\n",
       "      <td>4064</td>\n",
       "    </tr>\n",
       "    <tr>\n",
       "      <th>4</th>\n",
       "      <td>4065</td>\n",
       "      <td>5001</td>\n",
       "      <td>5002</td>\n",
       "      <td>5003</td>\n",
       "      <td>5005</td>\n",
       "      <td>4065</td>\n",
       "      <td>5001</td>\n",
       "      <td>5002</td>\n",
       "      <td>5003</td>\n",
       "      <td>5005</td>\n",
       "    </tr>\n",
       "    <tr>\n",
       "      <th>5</th>\n",
       "      <td>5008</td>\n",
       "      <td>5009</td>\n",
       "      <td>5010</td>\n",
       "      <td>5011</td>\n",
       "      <td>5013</td>\n",
       "      <td>5008</td>\n",
       "      <td>5009</td>\n",
       "      <td>5010</td>\n",
       "      <td>5011</td>\n",
       "      <td>5013</td>\n",
       "    </tr>\n",
       "    <tr>\n",
       "      <th>6</th>\n",
       "      <td>5014</td>\n",
       "      <td>5016</td>\n",
       "      <td>5017</td>\n",
       "      <td>5019</td>\n",
       "      <td>5020</td>\n",
       "      <td>5014</td>\n",
       "      <td>5016</td>\n",
       "      <td>5017</td>\n",
       "      <td>5019</td>\n",
       "      <td>5020</td>\n",
       "    </tr>\n",
       "    <tr>\n",
       "      <th>7</th>\n",
       "      <td>5024</td>\n",
       "      <td>5026</td>\n",
       "      <td>5031</td>\n",
       "      <td>5033</td>\n",
       "      <td>5034</td>\n",
       "      <td>5024</td>\n",
       "      <td>5026</td>\n",
       "      <td>5031</td>\n",
       "      <td>5033</td>\n",
       "      <td>5034</td>\n",
       "    </tr>\n",
       "  </tbody>\n",
       "</table>\n",
       "</div>"
      ],
      "text/plain": [
       "     1     2     3     4     5     7     8     9     10    11\n",
       "0  2017  2018  2022  2023  2025  2017  2018  2022  2023  2025\n",
       "1  2028  3038  3063  4005  4007  2028  3038  3063  4005  4007\n",
       "2  1014  4015  4018  4039  4040  1014  4015  4018  4039  4040\n",
       "3  4041  4042  4048  4063  4064  4041  4042  4048  4063  4064\n",
       "4  4065  5001  5002  5003  5005  4065  5001  5002  5003  5005\n",
       "5  5008  5009  5010  5011  5013  5008  5009  5010  5011  5013\n",
       "6  5014  5016  5017  5019  5020  5014  5016  5017  5019  5020\n",
       "7  5024  5026  5031  5033  5034  5024  5026  5031  5033  5034"
      ]
     },
     "execution_count": 9,
     "metadata": {},
     "output_type": "execute_result"
    }
   ],
   "source": [
    "df"
   ]
  },
  {
   "cell_type": "code",
   "execution_count": null,
   "metadata": {},
   "outputs": [],
   "source": []
  },
  {
   "cell_type": "code",
   "execution_count": 10,
   "metadata": {
    "scrolled": true
   },
   "outputs": [
    {
     "data": {
      "text/plain": [
       "(8, 10)"
      ]
     },
     "execution_count": 10,
     "metadata": {},
     "output_type": "execute_result"
    }
   ],
   "source": [
    "df.shape"
   ]
  },
  {
   "cell_type": "code",
   "execution_count": 333,
   "metadata": {
    "collapsed": true
   },
   "outputs": [],
   "source": [
    "path = \"DTS2019/PLANTILLAS/\"\n",
    "TMA = 'TMA14-006.xls'"
   ]
  },
  {
   "cell_type": "code",
   "execution_count": 344,
   "metadata": {
    "scrolled": true
   },
   "outputs": [
    {
     "name": "stderr",
     "output_type": "stream",
     "text": [
      "/home/auri/anaconda3/lib/python3.6/site-packages/pandas/io/excel.py:329: FutureWarning: The `sheetname` keyword is deprecated, use `sheet_name` instead\n",
      "  **kwds)\n"
     ]
    }
   ],
   "source": [
    "df = pd.read_excel(path + TMA, sheetname='PLANTILLA', skiprows=6, header = None)"
   ]
  },
  {
   "cell_type": "code",
   "execution_count": 345,
   "metadata": {},
   "outputs": [],
   "source": [
    "df.drop(df.columns[[0,1,6,7]], axis=1, inplace = True)\n"
   ]
  },
  {
   "cell_type": "code",
   "execution_count": 346,
   "metadata": {},
   "outputs": [
    {
     "data": {
      "text/plain": [
       "(8, 8)"
      ]
     },
     "execution_count": 346,
     "metadata": {},
     "output_type": "execute_result"
    }
   ],
   "source": [
    "df.shape"
   ]
  },
  {
   "cell_type": "code",
   "execution_count": 347,
   "metadata": {
    "scrolled": true
   },
   "outputs": [
    {
     "data": {
      "text/html": [
       "<div>\n",
       "<style scoped>\n",
       "    .dataframe tbody tr th:only-of-type {\n",
       "        vertical-align: middle;\n",
       "    }\n",
       "\n",
       "    .dataframe tbody tr th {\n",
       "        vertical-align: top;\n",
       "    }\n",
       "\n",
       "    .dataframe thead th {\n",
       "        text-align: right;\n",
       "    }\n",
       "</style>\n",
       "<table border=\"1\" class=\"dataframe\">\n",
       "  <thead>\n",
       "    <tr style=\"text-align: right;\">\n",
       "      <th></th>\n",
       "      <th>2</th>\n",
       "      <th>3</th>\n",
       "      <th>4</th>\n",
       "      <th>5</th>\n",
       "      <th>8</th>\n",
       "      <th>9</th>\n",
       "      <th>10</th>\n",
       "      <th>11</th>\n",
       "    </tr>\n",
       "  </thead>\n",
       "  <tbody>\n",
       "    <tr>\n",
       "      <th>0</th>\n",
       "      <td>06-5803-11</td>\n",
       "      <td>06-5879-15</td>\n",
       "      <td>06-5884-1</td>\n",
       "      <td>06-6340-14</td>\n",
       "      <td>06-5803-11</td>\n",
       "      <td>06-5879-15</td>\n",
       "      <td>06-5884-1</td>\n",
       "      <td>06-6340-14</td>\n",
       "    </tr>\n",
       "    <tr>\n",
       "      <th>1</th>\n",
       "      <td>06-6798-6</td>\n",
       "      <td>06-9873-18</td>\n",
       "      <td>06-9926-8</td>\n",
       "      <td>06-10175-20</td>\n",
       "      <td>06-6798-6</td>\n",
       "      <td>06-9873-18</td>\n",
       "      <td>06-9926-8</td>\n",
       "      <td>06-10175-20</td>\n",
       "    </tr>\n",
       "    <tr>\n",
       "      <th>2</th>\n",
       "      <td>06-10268-11</td>\n",
       "      <td>06-10993-1</td>\n",
       "      <td>06-11839-5</td>\n",
       "      <td>06-12247-4</td>\n",
       "      <td>06-10268-11</td>\n",
       "      <td>06-10993-1</td>\n",
       "      <td>06-11839-5</td>\n",
       "      <td>06-12247-4</td>\n",
       "    </tr>\n",
       "    <tr>\n",
       "      <th>3</th>\n",
       "      <td>06-12585-6</td>\n",
       "      <td>06-12713-19</td>\n",
       "      <td>06-12748-5</td>\n",
       "      <td>06-13094-4</td>\n",
       "      <td>06-12585-6</td>\n",
       "      <td>06-12713-19</td>\n",
       "      <td>06-12748-5</td>\n",
       "      <td>06-13094-4</td>\n",
       "    </tr>\n",
       "    <tr>\n",
       "      <th>4</th>\n",
       "      <td>06-13251-4</td>\n",
       "      <td>06-13666-3</td>\n",
       "      <td>06-14108-5</td>\n",
       "      <td>06-14535-9</td>\n",
       "      <td>06-13251-4</td>\n",
       "      <td>06-13666-3</td>\n",
       "      <td>06-14108-5</td>\n",
       "      <td>06-14535-9</td>\n",
       "    </tr>\n",
       "    <tr>\n",
       "      <th>5</th>\n",
       "      <td>06-14535-5</td>\n",
       "      <td>06-15750-2</td>\n",
       "      <td>06-15822-9</td>\n",
       "      <td>07-1268-B</td>\n",
       "      <td>06-14535-5</td>\n",
       "      <td>06-15750-2</td>\n",
       "      <td>06-15822-9</td>\n",
       "      <td>07-1268-B</td>\n",
       "    </tr>\n",
       "    <tr>\n",
       "      <th>6</th>\n",
       "      <td>07-3015-8</td>\n",
       "      <td>07-3277-6</td>\n",
       "      <td>07-3553-3</td>\n",
       "      <td>07-960-13</td>\n",
       "      <td>07-3015-8</td>\n",
       "      <td>07-3277-6</td>\n",
       "      <td>07-3553-3</td>\n",
       "      <td>07-960-13</td>\n",
       "    </tr>\n",
       "    <tr>\n",
       "      <th>7</th>\n",
       "      <td>NaN</td>\n",
       "      <td>NaN</td>\n",
       "      <td>NaN</td>\n",
       "      <td>07-10250-1</td>\n",
       "      <td>NaN</td>\n",
       "      <td>NaN</td>\n",
       "      <td>NaN</td>\n",
       "      <td>07-10250-1</td>\n",
       "    </tr>\n",
       "  </tbody>\n",
       "</table>\n",
       "</div>"
      ],
      "text/plain": [
       "            2            3           4            5            8   \\\n",
       "0   06-5803-11   06-5879-15   06-5884-1   06-6340-14   06-5803-11   \n",
       "1    06-6798-6   06-9873-18   06-9926-8  06-10175-20    06-6798-6   \n",
       "2  06-10268-11   06-10993-1  06-11839-5   06-12247-4  06-10268-11   \n",
       "3   06-12585-6  06-12713-19  06-12748-5   06-13094-4   06-12585-6   \n",
       "4   06-13251-4   06-13666-3  06-14108-5   06-14535-9   06-13251-4   \n",
       "5   06-14535-5   06-15750-2  06-15822-9    07-1268-B   06-14535-5   \n",
       "6    07-3015-8    07-3277-6   07-3553-3    07-960-13    07-3015-8   \n",
       "7          NaN          NaN         NaN   07-10250-1          NaN   \n",
       "\n",
       "            9           10           11  \n",
       "0   06-5879-15   06-5884-1   06-6340-14  \n",
       "1   06-9873-18   06-9926-8  06-10175-20  \n",
       "2   06-10993-1  06-11839-5   06-12247-4  \n",
       "3  06-12713-19  06-12748-5   06-13094-4  \n",
       "4   06-13666-3  06-14108-5   06-14535-9  \n",
       "5   06-15750-2  06-15822-9    07-1268-B  \n",
       "6    07-3277-6   07-3553-3    07-960-13  \n",
       "7          NaN         NaN   07-10250-1  "
      ]
     },
     "execution_count": 347,
     "metadata": {},
     "output_type": "execute_result"
    }
   ],
   "source": [
    "df\n"
   ]
  },
  {
   "cell_type": "code",
   "execution_count": 11,
   "metadata": {},
   "outputs": [],
   "source": [
    "s = df.T.reset_index().reindex(columns=[1,0,'index'])"
   ]
  },
  {
   "cell_type": "code",
   "execution_count": 12,
   "metadata": {},
   "outputs": [],
   "source": [
    "s = df.T"
   ]
  },
  {
   "cell_type": "code",
   "execution_count": 13,
   "metadata": {},
   "outputs": [
    {
     "data": {
      "text/html": [
       "<div>\n",
       "<style scoped>\n",
       "    .dataframe tbody tr th:only-of-type {\n",
       "        vertical-align: middle;\n",
       "    }\n",
       "\n",
       "    .dataframe tbody tr th {\n",
       "        vertical-align: top;\n",
       "    }\n",
       "\n",
       "    .dataframe thead th {\n",
       "        text-align: right;\n",
       "    }\n",
       "</style>\n",
       "<table border=\"1\" class=\"dataframe\">\n",
       "  <thead>\n",
       "    <tr style=\"text-align: right;\">\n",
       "      <th></th>\n",
       "      <th>7</th>\n",
       "      <th>6</th>\n",
       "      <th>5</th>\n",
       "      <th>4</th>\n",
       "      <th>3</th>\n",
       "      <th>2</th>\n",
       "      <th>1</th>\n",
       "      <th>0</th>\n",
       "      <th>index</th>\n",
       "    </tr>\n",
       "  </thead>\n",
       "  <tbody>\n",
       "    <tr>\n",
       "      <th>0</th>\n",
       "      <td>5024</td>\n",
       "      <td>5014</td>\n",
       "      <td>5008</td>\n",
       "      <td>4065</td>\n",
       "      <td>4041</td>\n",
       "      <td>1014</td>\n",
       "      <td>2028</td>\n",
       "      <td>2017</td>\n",
       "      <td>1</td>\n",
       "    </tr>\n",
       "    <tr>\n",
       "      <th>1</th>\n",
       "      <td>5026</td>\n",
       "      <td>5016</td>\n",
       "      <td>5009</td>\n",
       "      <td>5001</td>\n",
       "      <td>4042</td>\n",
       "      <td>4015</td>\n",
       "      <td>3038</td>\n",
       "      <td>2018</td>\n",
       "      <td>2</td>\n",
       "    </tr>\n",
       "    <tr>\n",
       "      <th>2</th>\n",
       "      <td>5031</td>\n",
       "      <td>5017</td>\n",
       "      <td>5010</td>\n",
       "      <td>5002</td>\n",
       "      <td>4048</td>\n",
       "      <td>4018</td>\n",
       "      <td>3063</td>\n",
       "      <td>2022</td>\n",
       "      <td>3</td>\n",
       "    </tr>\n",
       "    <tr>\n",
       "      <th>3</th>\n",
       "      <td>5033</td>\n",
       "      <td>5019</td>\n",
       "      <td>5011</td>\n",
       "      <td>5003</td>\n",
       "      <td>4063</td>\n",
       "      <td>4039</td>\n",
       "      <td>4005</td>\n",
       "      <td>2023</td>\n",
       "      <td>4</td>\n",
       "    </tr>\n",
       "    <tr>\n",
       "      <th>4</th>\n",
       "      <td>5034</td>\n",
       "      <td>5020</td>\n",
       "      <td>5013</td>\n",
       "      <td>5005</td>\n",
       "      <td>4064</td>\n",
       "      <td>4040</td>\n",
       "      <td>4007</td>\n",
       "      <td>2025</td>\n",
       "      <td>5</td>\n",
       "    </tr>\n",
       "    <tr>\n",
       "      <th>5</th>\n",
       "      <td>5024</td>\n",
       "      <td>5014</td>\n",
       "      <td>5008</td>\n",
       "      <td>4065</td>\n",
       "      <td>4041</td>\n",
       "      <td>1014</td>\n",
       "      <td>2028</td>\n",
       "      <td>2017</td>\n",
       "      <td>7</td>\n",
       "    </tr>\n",
       "    <tr>\n",
       "      <th>6</th>\n",
       "      <td>5026</td>\n",
       "      <td>5016</td>\n",
       "      <td>5009</td>\n",
       "      <td>5001</td>\n",
       "      <td>4042</td>\n",
       "      <td>4015</td>\n",
       "      <td>3038</td>\n",
       "      <td>2018</td>\n",
       "      <td>8</td>\n",
       "    </tr>\n",
       "    <tr>\n",
       "      <th>7</th>\n",
       "      <td>5031</td>\n",
       "      <td>5017</td>\n",
       "      <td>5010</td>\n",
       "      <td>5002</td>\n",
       "      <td>4048</td>\n",
       "      <td>4018</td>\n",
       "      <td>3063</td>\n",
       "      <td>2022</td>\n",
       "      <td>9</td>\n",
       "    </tr>\n",
       "    <tr>\n",
       "      <th>8</th>\n",
       "      <td>5033</td>\n",
       "      <td>5019</td>\n",
       "      <td>5011</td>\n",
       "      <td>5003</td>\n",
       "      <td>4063</td>\n",
       "      <td>4039</td>\n",
       "      <td>4005</td>\n",
       "      <td>2023</td>\n",
       "      <td>10</td>\n",
       "    </tr>\n",
       "    <tr>\n",
       "      <th>9</th>\n",
       "      <td>5034</td>\n",
       "      <td>5020</td>\n",
       "      <td>5013</td>\n",
       "      <td>5005</td>\n",
       "      <td>4064</td>\n",
       "      <td>4040</td>\n",
       "      <td>4007</td>\n",
       "      <td>2025</td>\n",
       "      <td>11</td>\n",
       "    </tr>\n",
       "  </tbody>\n",
       "</table>\n",
       "</div>"
      ],
      "text/plain": [
       "      7     6     5     4     3     2     1     0  index\n",
       "0  5024  5014  5008  4065  4041  1014  2028  2017      1\n",
       "1  5026  5016  5009  5001  4042  4015  3038  2018      2\n",
       "2  5031  5017  5010  5002  4048  4018  3063  2022      3\n",
       "3  5033  5019  5011  5003  4063  4039  4005  2023      4\n",
       "4  5034  5020  5013  5005  4064  4040  4007  2025      5\n",
       "5  5024  5014  5008  4065  4041  1014  2028  2017      7\n",
       "6  5026  5016  5009  5001  4042  4015  3038  2018      8\n",
       "7  5031  5017  5010  5002  4048  4018  3063  2022      9\n",
       "8  5033  5019  5011  5003  4063  4039  4005  2023     10\n",
       "9  5034  5020  5013  5005  4064  4040  4007  2025     11"
      ]
     },
     "execution_count": 13,
     "metadata": {},
     "output_type": "execute_result"
    }
   ],
   "source": [
    "s = df.T.reset_index().reindex(columns=[7,6,5,4,3,2,1,0,'index'])\n",
    "s"
   ]
  },
  {
   "cell_type": "code",
   "execution_count": 351,
   "metadata": {
    "collapsed": true
   },
   "outputs": [],
   "source": [
    "s.to_csv('_' + TMA)"
   ]
  },
  {
   "cell_type": "code",
   "execution_count": null,
   "metadata": {
    "collapsed": true
   },
   "outputs": [],
   "source": []
  },
  {
   "cell_type": "code",
   "execution_count": null,
   "metadata": {
    "collapsed": true
   },
   "outputs": [],
   "source": []
  }
 ],
 "metadata": {
  "kernelspec": {
   "display_name": "Python 3",
   "language": "python",
   "name": "python3"
  },
  "language_info": {
   "codemirror_mode": {
    "name": "ipython",
    "version": 3
   },
   "file_extension": ".py",
   "mimetype": "text/x-python",
   "name": "python",
   "nbconvert_exporter": "python",
   "pygments_lexer": "ipython3",
   "version": "3.7.7"
  }
 },
 "nbformat": 4,
 "nbformat_minor": 2
}
