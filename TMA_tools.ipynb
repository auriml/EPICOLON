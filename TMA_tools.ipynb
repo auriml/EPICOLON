{
 "cells": [
  {
   "cell_type": "code",
   "execution_count": null,
   "metadata": {},
   "outputs": [],
   "source": [
    "import os\n",
    "os.environ[\"CUDA_VISIBLE_DEVICES\"]=\"2\""
   ]
  },
  {
   "cell_type": "code",
   "execution_count": null,
   "metadata": {},
   "outputs": [],
   "source": [
    "import torch\n",
    "from fastai2.basics import *\n",
    "from fastai2.vision.all import *\n",
    "from fastai2.data.transforms import *\n"
   ]
  },
  {
   "cell_type": "code",
   "execution_count": null,
   "metadata": {},
   "outputs": [],
   "source": [
    "import fastai2"
   ]
  },
  {
   "cell_type": "code",
   "execution_count": null,
   "metadata": {},
   "outputs": [],
   "source": [
    "%matplotlib inline"
   ]
  },
  {
   "cell_type": "code",
   "execution_count": null,
   "metadata": {},
   "outputs": [],
   "source": [
    "import pandas as pd\n",
    "pd.set_option('display.max_rows', 50)\n",
    "pd.set_option('display.max_columns', 170)\n",
    "pd.set_option('display.max_colwidth', -1)"
   ]
  },
  {
   "cell_type": "code",
   "execution_count": null,
   "metadata": {},
   "outputs": [],
   "source": [
    "import numpy as np\n",
    "from matplotlib import pyplot as plt\n",
    "import openslide\n",
    "from numpy import asarray"
   ]
  },
  {
   "cell_type": "code",
   "execution_count": null,
   "metadata": {},
   "outputs": [],
   "source": [
    "class TMA:\n",
    "    diameter_spot = 1200\n",
    "    def __init__(self, tma_path, file, img_path_tif):\n",
    "        self.meta_fn = file\n",
    "        self.meta_path = tma_path\n",
    "        self.img_path_tif = img_path_tif\n",
    "        self.name = file.strip('.txt')[len('TMA results - '):]\n",
    "        self.spots = self.load_spots_meta()\n",
    "        self.img_tif = self.load_img_tif()\n",
    "        \n",
    "    def load_tma_meta(self):\n",
    "        df1 = pd.read_csv(os.path.join(self.meta_path, self.meta_fn), names=['fn', 'missing','X', 'Y', 'ID'], sep='\\t', skiprows=[0])\n",
    "        return df1\n",
    "    \n",
    "    def load_img_tif(self):\n",
    "        a = None\n",
    "        try:\n",
    "            a = openslide.OpenSlide(os.path.join(self.img_path_tif, self.name + '.tif'))\n",
    "        except: \n",
    "            print(f\"BAD {self.name}.tif\")\n",
    "        return a\n",
    "    \n",
    "    def load_spots_meta(self):\n",
    "        spots = []\n",
    "        for index, rows in self.load_tma_meta().iterrows():\n",
    "            spots.append(Spot(self.diameter_spot, \n",
    "                              rows.fn, rows.missing, (rows.X, rows.Y), rows.ID,\n",
    "                        self.meta_path, self))\n",
    "        return spots\n"
   ]
  },
  {
   "cell_type": "code",
   "execution_count": null,
   "metadata": {},
   "outputs": [],
   "source": [
    "class Spot: \n",
    "    def __init__(self, diameter, name, missing, center, ID, img_path_jpg, tma):\n",
    "        self.path_jpg = img_path_jpg\n",
    "        self.diameter = diameter #in micrometers\n",
    "        self.name = name\n",
    "        self.center = center #in micrometers\n",
    "        self.missing = missing\n",
    "        self.ID = ID\n",
    "        self.TMA = tma\n",
    "        self.tiles = []\n",
    "        \n",
    "        \n",
    "        \n",
    "    def load_img_jpg(self):\n",
    "        s = openslide.ImageSlide(os.path.join(self.path_jpg, self.name + '.jpg'))\n",
    "        #regions to be read with method s.read_region()\n",
    "        return s\n",
    "    \n",
    "    #get spot center coordinates in pixels\n",
    "    def get_center_pixel(self):\n",
    "        tma = self.TMA.img_tif\n",
    "        c_x, c_y = self.center \n",
    "        mpp_x, mpp_y = float(tma.properties['openslide.mpp-x']), float(tma.properties['openslide.mpp-y']) #mpp  - 0.25  micras per pixel\n",
    "        pc_x, pc_y = int(c_x / float(mpp_x)),int(c_y / float(mpp_y))\n",
    "        return pc_x, pc_y\n",
    "    \n",
    "    #return radious in pixels both at full magnification (level = 0) and at a given zoom-out level\n",
    "    def get_radious_pixel(self, level):\n",
    "        tma = self.TMA.img_tif\n",
    "        mpp_x, mpp_y = float(tma.properties['openslide.mpp-x']), float(tma.properties['openslide.mpp-y'])\n",
    "        #mpp = (mpp_x**2 + mpp_y**2)**0.5\n",
    "        pspot_radio = int(self.diameter/ mpp_x / 2 )\n",
    "        pzoom_radio = int( pspot_radio/ 2**level ) #with each increasing level the image is reduced half size \n",
    "        return pspot_radio, pzoom_radio\n",
    "    \n",
    "    #return spot circunference's north and sud y-coordinates (absolute positions in level 0) \n",
    "    #given a relative position from 0 (left) to 1 (right) in the spot diameter in axis x\n",
    "    def get_circle_coordinates_pixel(self, rel_pos_diameter_x = .5): #return by default the y-coordinates for x fixed at center\n",
    "        pc_x, pc_y = self.get_center_pixel()\n",
    "        pspot_radio, _ = self.get_radious_pixel(0)\n",
    "        x = int(pc_x - pspot_radio + rel_pos_diameter_x*(pspot_radio*2))\n",
    "        if (( x + pspot_radio < pc_x) or ( x - pspot_radio > pc_x)): #x should be in circle diameter (pc_x - pspot_radio, pc_x + pspot_radio)\n",
    "            return x, np.nan, np.nan\n",
    "        root = (pspot_radio**2 - (x - pc_x)**2)**0.5\n",
    "        y_north = int( -root + pc_y)\n",
    "        y_sud = int( root + pc_y)\n",
    "        return x, y_north, y_sud\n",
    "    \n",
    "    #check (true or false) if there is scarce tissue in an image\n",
    "    def check_scarce_tissue(self, tile_image): \n",
    "        s = asarray(tile_image)\n",
    "        return s.mean() >= 230 #completely white = 255\n",
    "   \n",
    "    #return an image tile from the spot where x,y is the left-sup corner of the tile\n",
    "    #for reference for current scanned tifs properties, level 0 is fully magnified image and for level 4 encloses one spot of diameter 1.2 micrometers\n",
    "    def get_tile(self, x,y , size=(300,300) , level = 4, path = None, tif_name = None):\n",
    "        tma = None\n",
    "        if (tif_name == None):\n",
    "            tma = self.TMA.img_tif\n",
    "        else:\n",
    "            try:\n",
    "                tma = openslide.OpenSlide(os.path.join(path, tif_name + '.tif'))\n",
    "            except: \n",
    "                print(tif_name + '.tif')\n",
    "        \n",
    "            \n",
    "        image = tma.read_region((x,y),level,size)\n",
    "        if Spot.check_scarce_tissue(Spot, image):\n",
    "            return np.nan\n",
    "        else:\n",
    "            return image\n",
    "\n",
    "   \n",
    "        \n",
    "    \n",
    "    #check (true or false) that tile (defined by left sup coordinate and size in a zoom level) is enclosed in a box defined by the 4 spot poles \n",
    "    def check_tile_in_spot(self, x,y,size=(300,300) , level = 4):\n",
    "        spot_poles = (self.get_circle_coordinates_pixel(0)[0], #left\n",
    "                  self.get_circle_coordinates_pixel(1)[0],  #right\n",
    "                  self.get_circle_coordinates_pixel(0.5)[1], #north\n",
    "                  self.get_circle_coordinates_pixel(0.5)[2]) #sud\n",
    "        if (x < spot_poles[0]) or (y < spot_poles[2] ) or (x + size[0]*(2**level) > spot_poles[1] ) or (y + size[1]*(2**level) > spot_poles[3]):\n",
    "            return False, spot_poles\n",
    "        else:\n",
    "            return True, spot_poles\n",
    "        \n",
    "        \n",
    "    #given a tile size in pixels and zoom level then sample all possible tiles from spot \n",
    "    #with a given overlap (0 to <1)\n",
    "    #return all tiles (defined by sup-lef corner coordinates, size and level) \n",
    "    #enclosed in box-spot with enough tissue \n",
    "    def sample_tiles(self, size = (300,300), level = 4, overlap = .2):\n",
    "        self.tiles = []\n",
    "        pspot_radio, _ = self.get_radious_pixel(level)\n",
    "        spot_tile_ratio = pspot_radio * 2 / size[0] \n",
    "        spot_tile_ratio_by_zoom = spot_tile_ratio / 2**level \n",
    "        stride_norm = 1 - overlap\n",
    "        #print(np.arange(0,1,stride_norm/spot_tile_ratio_by_zoom))\n",
    "        for i_x in np.arange(0,1,stride_norm/spot_tile_ratio_by_zoom): \n",
    "            x, y_north, y_sud = self.get_circle_coordinates_pixel(i_x)\n",
    "            if (y_sud-y_north == 0): #intersection of ecuador with circunference\n",
    "                if self.check_tile_in_spot(x, int(y_north), size, level)[0]:\n",
    "                    self.tiles.append([x, int(y_north), size, level])\n",
    "                if self.check_tile_in_spot(x, int(y_north), size, level)[0]:\n",
    "                    self.tiles.append([x, int(y_north) - pspot_radio, size, level])\n",
    "            else:\n",
    "                for j in np.arange(y_north, y_sud, (y_sud-y_north)*stride_norm/spot_tile_ratio_by_zoom ): \n",
    "                    if self.check_tile_in_spot(x, int(j), size, level)[0]:\n",
    "                        self.tiles.append([x, int(j), size, level])\n",
    "\n",
    "        return self.tiles\n",
    "    \n",
    "    \n",
    "\n",
    "    #given a zoom level it returns the box enclosing only this spot\n",
    "    def get_enclosing_box(self, level):\n",
    "        pspot_radio, pzoom_radio = self.get_radious_pixel(level)\n",
    "        print(pzoom_radio)\n",
    "        pc_x, pc_y = spot.get_center_pixel()\n",
    "        tile = spot.get_tile(pc_x - pspot_radio, pc_y - pspot_radio,  (pzoom_radio * 2, pzoom_radio * 2), level )\n",
    "        return tile\n",
    "    \n",
    "\n",
    "    \n",
    "        "
   ]
  },
  {
   "cell_type": "code",
   "execution_count": null,
   "metadata": {},
   "outputs": [],
   "source": [
    "path = 'SPOTS/TMA06-03.qptma.data/'\n",
    "df = pd.read_csv('DTS2020 ALENDA.xlsx - DTS2020_ALENDA.csv', )\n",
    "df_labels = df[['COD_DTS','Epicolon1+2IHQ-IMS-maria paper lynlike_IMS','LynchIMS','ihq_mlh1','dukes_r',\n",
    " 'TNMagrup','BaseEP1y2actualizada2016-OSCAR-def_n', 'grado_di','infirec','moc',\n",
    "'edat', 'sexe','ccr_sin','aden_sin','r_beth_4',\n",
    "'RECIMORT','KRAS','localizacion','fechreci','ILEact','estfseagrup']]"
   ]
  },
  {
   "cell_type": "code",
   "execution_count": null,
   "metadata": {},
   "outputs": [],
   "source": [
    "import os\n",
    "tmas = []\n",
    "for root, dirs, files in os.walk(\"SPOTS\"):\n",
    "    for file in files:\n",
    "        if file.endswith(\".txt\"):\n",
    "            tma = TMA(root, file, 'DTS2019')\n",
    "            tmas.append(tma)\n",
    "            \n",
    "\n",
    "            "
   ]
  },
  {
   "cell_type": "code",
   "execution_count": null,
   "metadata": {},
   "outputs": [],
   "source": [
    "#generate Dataset \n",
    "ds = pd.DataFrame(columns=['tile', 'path','tif_fn', 'patient_ID','label'])"
   ]
  },
  {
   "cell_type": "code",
   "execution_count": null,
   "metadata": {},
   "outputs": [],
   "source": [
    "#size = (300,300), level = 3, overlap = .2\n",
    "\n",
    "label = 'edat'\n",
    "for tma in tmas:\n",
    "    for spot in tma.spots:\n",
    "        for tile in spot.sample_tiles(size = (300,300), level = 1, overlap = .2):\n",
    "            s = df_labels.loc[df_labels['COD_DTS'] == str(spot.ID)]\n",
    "            if (s.shape[0] != 0):\n",
    "                if label == 'edat':\n",
    "                    l = float(str(s.iloc[0][label]).replace(',','.'))\n",
    "                else:\n",
    "                    l = s.iloc[0][label]\n",
    "                \n",
    "                if not np.isnan(l):\n",
    "                    ds = ds.append({'tile': tile, 'path': tma.img_path_tif, 'tif_fn': tma.name, 'patient_ID': spot.ID,'label': l }, ignore_index=True)          \n",
    "\n",
    "\n"
   ]
  },
  {
   "cell_type": "code",
   "execution_count": null,
   "metadata": {},
   "outputs": [],
   "source": [
    "d = ds.merge(df_labels, how='left', left_on='patient_ID',right_on='COD_DTS', )\n",
    "d = d.loc[d['Epicolon1+2IHQ-IMS-maria paper lynlike_IMS'].isna() == False]\n",
    "d.label = d['Epicolon1+2IHQ-IMS-maria paper lynlike_IMS'].apply(lambda x: x)\n",
    "d.label = True\n",
    "d.loc[d['Epicolon1+2IHQ-IMS-maria paper lynlike_IMS'] == \"inestable\",'label' ] = False"
   ]
  },
  {
   "cell_type": "code",
   "execution_count": null,
   "metadata": {},
   "outputs": [],
   "source": [
    "d.label.describe()"
   ]
  },
  {
   "cell_type": "code",
   "execution_count": null,
   "metadata": {},
   "outputs": [],
   "source": [
    "d.shape[0]"
   ]
  },
  {
   "cell_type": "code",
   "execution_count": null,
   "metadata": {},
   "outputs": [],
   "source": [
    "j = 567\n",
    "print((d.iloc[j][['tile','path', 'tif_fn']]))\n",
    "p = Spot.get_tile(Spot, *(d.iloc[j].tile), path = d.iloc[j].path, tif_name = d.iloc[j].tif_fn)\n",
    "print(np.array(p).shape)\n",
    "p"
   ]
  },
  {
   "cell_type": "code",
   "execution_count": null,
   "metadata": {},
   "outputs": [],
   "source": [
    "import torch\n",
    "print(np.max(np.array(p)[:,:,3]))\n",
    "p1 = np.array(p)[:,:,:3]\n",
    "\n",
    "\n",
    "img = np.array(p)[:,:,:3]\n",
    "t = torch.Tensor(np.array(img))\n",
    "t= t.permute(2,0,1).float()/255.0\n",
    "t.shape,t"
   ]
  },
  {
   "cell_type": "code",
   "execution_count": null,
   "metadata": {},
   "outputs": [],
   "source": []
  },
  {
   "cell_type": "code",
   "execution_count": null,
   "metadata": {},
   "outputs": [],
   "source": []
  },
  {
   "cell_type": "code",
   "execution_count": null,
   "metadata": {},
   "outputs": [],
   "source": [
    "idxs = np.random.permutation(range(d.shape[0]))\n",
    "cut = int(0.8 * d.shape[0])\n",
    "train_files = d.iloc[idxs[:cut]]\n",
    "valid_files = d.iloc[idxs[cut:]]\n",
    "valid_files"
   ]
  },
  {
   "cell_type": "code",
   "execution_count": null,
   "metadata": {},
   "outputs": [],
   "source": [
    "class TileDataset(torch.utils.data.Dataset):\n",
    "    def __init__(self, df, is_valid=False):\n",
    "        self.tiles,self.is_valid = df,is_valid\n",
    "        \n",
    "    def __getitem__(self, i):\n",
    "        self.tiles\n",
    "        \n",
    "        img = Spot.get_tile(Spot, *(self.tiles.iloc[i].tile), path = self.tiles.iloc[i].path, tif_name = self.tiles.iloc[i].tif_fn)\n",
    "        #print(img)\n",
    "        if (isinstance(img, Image.Image) == False): \n",
    "            i = j\n",
    "            img = Spot.get_tile(Spot, *(self.tiles.iloc[i].tile), path = self.tiles.iloc[i].path, tif_name = self.tiles.iloc[i].tif_fn)\n",
    "        \n",
    "        img = np.array(img)[:,:,:3]\n",
    "        t = torch.Tensor(np.array(img))\n",
    "        t = t.permute(2,0,1).float()/255.0\n",
    "        \n",
    "        label = torch.Tensor([self.tiles.iloc[i].label]).squeeze()\n",
    "        return (TensorImage(t), label)\n",
    "    \n",
    "    def __len__(self): return self.tiles.shape[0]\n",
    "        \n",
    "        "
   ]
  },
  {
   "cell_type": "code",
   "execution_count": null,
   "metadata": {},
   "outputs": [],
   "source": [
    "train_ds = TileDataset(train_files)\n",
    "valid_ds = TileDataset(valid_files, is_valid=True)"
   ]
  },
  {
   "cell_type": "code",
   "execution_count": null,
   "metadata": {},
   "outputs": [],
   "source": [
    "from fastai2.data.core import DataLoaders"
   ]
  },
  {
   "cell_type": "code",
   "execution_count": null,
   "metadata": {},
   "outputs": [],
   "source": [
    "dls = DataLoaders.from_dsets(train_ds, valid_ds,device=default_device(),\n",
    "                            after_batch=[Normalize.from_stats(*imagenet_stats), ])"
   ]
  },
  {
   "cell_type": "code",
   "execution_count": null,
   "metadata": {},
   "outputs": [],
   "source": [
    "b = dls.one_batch()"
   ]
  },
  {
   "cell_type": "code",
   "execution_count": null,
   "metadata": {},
   "outputs": [],
   "source": [
    "b[0]"
   ]
  },
  {
   "cell_type": "code",
   "execution_count": null,
   "metadata": {},
   "outputs": [],
   "source": [
    "explode_types(b)"
   ]
  },
  {
   "cell_type": "code",
   "execution_count": null,
   "metadata": {},
   "outputs": [],
   "source": [
    "#learn = cnn_learner(dls, resnet34,config={'ps':0.}, loss_func=MSELossFlat(),metrics=mse,n_out=1)\n",
    "learn = cnn_learner(dls, resnet34,config={'ps':0.}, loss_func=BCEWithLogitsLossFlat() ,metrics=error_rate ,n_out=1)"
   ]
  },
  {
   "cell_type": "code",
   "execution_count": null,
   "metadata": {},
   "outputs": [],
   "source": [
    "learn.summary()"
   ]
  },
  {
   "cell_type": "code",
   "execution_count": null,
   "metadata": {
    "scrolled": true
   },
   "outputs": [],
   "source": [
    "learn.lr_find()"
   ]
  },
  {
   "cell_type": "code",
   "execution_count": null,
   "metadata": {},
   "outputs": [],
   "source": [
    "learn.recorder.plot_lr_find()"
   ]
  },
  {
   "cell_type": "code",
   "execution_count": null,
   "metadata": {},
   "outputs": [],
   "source": [
    "learn.fit_one_cycle(10,1e-2)"
   ]
  },
  {
   "cell_type": "code",
   "execution_count": null,
   "metadata": {
    "scrolled": true
   },
   "outputs": [],
   "source": [
    "dls[1].dataset[0]"
   ]
  },
  {
   "cell_type": "code",
   "execution_count": null,
   "metadata": {},
   "outputs": [],
   "source": [
    "dls[1].dataset[0]"
   ]
  },
  {
   "cell_type": "code",
   "execution_count": null,
   "metadata": {},
   "outputs": [],
   "source": [
    "learn.get_preds()[1].shape"
   ]
  },
  {
   "cell_type": "code",
   "execution_count": null,
   "metadata": {},
   "outputs": [],
   "source": [
    "interp = Interpretation.from_learner(learn)"
   ]
  },
  {
   "cell_type": "code",
   "execution_count": null,
   "metadata": {},
   "outputs": [],
   "source": [
    "interp.__dict__\n"
   ]
  },
  {
   "cell_type": "code",
   "execution_count": null,
   "metadata": {},
   "outputs": [],
   "source": [
    "interp.losses.shape"
   ]
  },
  {
   "cell_type": "code",
   "execution_count": null,
   "metadata": {},
   "outputs": [],
   "source": [
    "tma = tmas[1]\n",
    "\n",
    "print(tma.meta_path)\n",
    "print(tma.img_path_tif)\n",
    "\n",
    "print(tma.spots[2].center)\n",
    "spot = tma.spots[5]\n",
    "jpg = spot.load_img_jpg()\n",
    "tif = tma.load_img_tif()\n",
    "tif"
   ]
  },
  {
   "cell_type": "code",
   "execution_count": null,
   "metadata": {},
   "outputs": [],
   "source": []
  },
  {
   "cell_type": "code",
   "execution_count": null,
   "metadata": {},
   "outputs": [],
   "source": []
  },
  {
   "cell_type": "code",
   "execution_count": null,
   "metadata": {},
   "outputs": [],
   "source": [
    "tma.img_tif.properties\n",
    "print(spot.TMA.name)\n",
    "print(spot.name)\n",
    "print(spot.ID)\n",
    "print(spot.diameter)\n",
    "spot.get_center_pixel()\n",
    "print(spot.get_radious_pixel(0))\n",
    "print(spot.get_circle_coordinates_pixel(0))\n",
    "print(spot.check_tile_in_spot(41100, spot.get_circle_coordinates_pixel(0)[1] - spot.get_radious_pixel(0)[0]))\n",
    "spot.get_tile(41100, spot.get_circle_coordinates_pixel(0)[1] - spot.get_radious_pixel(0)[0])"
   ]
  },
  {
   "cell_type": "code",
   "execution_count": null,
   "metadata": {},
   "outputs": [],
   "source": [
    "img = spot.get_enclosing_box(4)\n",
    "print(img.size)\n",
    "img"
   ]
  },
  {
   "cell_type": "code",
   "execution_count": null,
   "metadata": {},
   "outputs": [],
   "source": [
    "spot.tiles = []\n",
    "print(len(spot.tiles))\n",
    "for t in spot.sample_tiles(size = (300,300), level = 2, overlap = .3):\n",
    "    print(t)\n",
    "    "
   ]
  },
  {
   "cell_type": "code",
   "execution_count": null,
   "metadata": {},
   "outputs": [],
   "source": [
    "print(len(spot.tiles))\n",
    "print(spot.tiles[1])"
   ]
  },
  {
   "cell_type": "code",
   "execution_count": null,
   "metadata": {},
   "outputs": [],
   "source": [
    "plt.imshow(spot.get_tile(*spot.tiles[0]))"
   ]
  },
  {
   "cell_type": "code",
   "execution_count": null,
   "metadata": {},
   "outputs": [],
   "source": [
    "spot.get_tile(*spot.tiles[0])"
   ]
  },
  {
   "cell_type": "code",
   "execution_count": null,
   "metadata": {},
   "outputs": [],
   "source": [
    "tma.img_tif.properties"
   ]
  },
  {
   "cell_type": "code",
   "execution_count": null,
   "metadata": {},
   "outputs": [],
   "source": []
  }
 ],
 "metadata": {
  "kernelspec": {
   "display_name": "Python (fastai2)",
   "language": "python",
   "name": "fastai2"
  },
  "language_info": {
   "codemirror_mode": {
    "name": "ipython",
    "version": 3
   },
   "file_extension": ".py",
   "mimetype": "text/x-python",
   "name": "python",
   "nbconvert_exporter": "python",
   "pygments_lexer": "ipython3",
   "version": "3.7.7"
  }
 },
 "nbformat": 4,
 "nbformat_minor": 2
}
